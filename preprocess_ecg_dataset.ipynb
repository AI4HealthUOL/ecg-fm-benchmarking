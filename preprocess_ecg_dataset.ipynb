{
 "cells": [
  {
   "cell_type": "code",
   "execution_count": null,
   "id": "3b46f11a",
   "metadata": {},
   "outputs": [],
   "source": [
    "import sys\n",
    "from pathlib import Path\n",
    "\n",
    "sys.path.append(str(Path().resolve() / \"code\"))\n",
    "\n",
    "from clinical_ts.utils.ecg_utils import *\n",
    "from clinical_ts.data.time_series_dataset_utils import *"
   ]
  },
  {
   "cell_type": "code",
   "execution_count": null,
   "id": "db85e1b2",
   "metadata": {},
   "outputs": [],
   "source": [
    "DATASET_DIR = Path(\"\")\n",
    "TARGET_DIR = Path(\"\")"
   ]
  },
  {
   "cell_type": "code",
   "execution_count": null,
   "id": "cff78bbc",
   "metadata": {},
   "outputs": [],
   "source": [
    "CHANNEL_ITOS = \"canonical\"\n",
    "channel_stoi_canonical = {\"i\": 0, \"ii\": 1, \"iii\":2, \"avr\":3, \"avl\":4, \"avf\":5, \"v1\":6, \"v2\":7, \"v3\":8, \"v4\":9, \"v5\":10, \"v6\":11, \"vx\":12, \"vy\":13, \"vz\":14}"
   ]
  },
  {
   "cell_type": "markdown",
   "id": "ee3aa701",
   "metadata": {},
   "source": [
    "# PTB-XL"
   ]
  },
  {
   "cell_type": "code",
   "execution_count": null,
   "id": "2e28455b",
   "metadata": {},
   "outputs": [],
   "source": [
    "ptb_xl_data_path_root = DATASET_DIR / \"ptb-xl\"\n",
    "ptb_xl_target_folder_root = TARGET_DIR / \"ptb-xl\" / \"records500\""
   ]
  },
  {
   "cell_type": "code",
   "execution_count": null,
   "id": "91f4d43d",
   "metadata": {},
   "outputs": [],
   "source": [
    "df_ptb_xl, _, _, _ = prepare_data_ptb_xl(\n",
    "    data_path=ptb_xl_data_path_root,\n",
    "    target_folder=ptb_xl_target_folder_root\n",
    ")"
   ]
  },
  {
   "cell_type": "code",
   "execution_count": null,
   "id": "d4abe28e",
   "metadata": {},
   "outputs": [],
   "source": [
    "reformat_as_memmap(\n",
    "    df=df_ptb_xl,\n",
    "    target_filename=Path(ptb_xl_target_folder_root)/\"memmap.npy\",\n",
    "    fs=500,\n",
    "    channel_itos=CHANNEL_ITOS,\n",
    "    data_folder=ptb_xl_target_folder_root\n",
    ")"
   ]
  },
  {
   "cell_type": "markdown",
   "id": "c1e77304",
   "metadata": {},
   "source": [
    "# PTB"
   ]
  },
  {
   "cell_type": "code",
   "execution_count": null,
   "id": "8520547d",
   "metadata": {},
   "outputs": [],
   "source": [
    "ptb_data_path_root = DATASET_DIR / \"ptb\"\n",
    "ptb_target_folder_root = TARGET_DIR / \"ptb\""
   ]
  },
  {
   "cell_type": "code",
   "execution_count": null,
   "id": "5f4e3e5c",
   "metadata": {},
   "outputs": [],
   "source": [
    "df_ptb, _, _, _ = prepare_ptbv2(\n",
    "    data_path=ptb_data_path_root,\n",
    "    target_folder=ptb_target_folder_root\n",
    ")"
   ]
  },
  {
   "cell_type": "code",
   "execution_count": null,
   "id": "548200ef",
   "metadata": {},
   "outputs": [],
   "source": [
    "reformat_as_memmap(\n",
    "    df=df_ptb,\n",
    "    target_filename=Path(ptb_target_folder_root)/\"memmap.npy\",\n",
    "    fs=1000,\n",
    "    channel_itos=CHANNEL_ITOS,\n",
    "    data_folder=ptb_target_folder_root\n",
    ")"
   ]
  },
  {
   "cell_type": "markdown",
   "id": "3284fcdf",
   "metadata": {},
   "source": [
    "# Ningbo"
   ]
  },
  {
   "cell_type": "code",
   "execution_count": null,
   "id": "7538c3d3",
   "metadata": {},
   "outputs": [],
   "source": [
    "ningbo_data_path_root = DATASET_DIR / \"ningbo\"\n",
    "ningbo_target_folder_root = TARGET_DIR / \"ningbo\""
   ]
  },
  {
   "cell_type": "code",
   "execution_count": null,
   "id": "632dc2b4",
   "metadata": {},
   "outputs": [],
   "source": [
    "df_ningbo, _, _, _ = prepare_data_ningbo(\n",
    "    data_path=ningbo_data_path_root,\n",
    "    target_folder=ningbo_target_folder_root\n",
    ")"
   ]
  },
  {
   "cell_type": "code",
   "execution_count": null,
   "id": "eed90593",
   "metadata": {},
   "outputs": [],
   "source": [
    "reformat_as_memmap(\n",
    "    df=df_ningbo,\n",
    "    target_filename=Path(ningbo_target_folder_root)/\"memmap.npy\",\n",
    "    fs=500,\n",
    "    channel_itos=CHANNEL_ITOS,\n",
    "    data_folder=ningbo_target_folder_root\n",
    ")"
   ]
  },
  {
   "cell_type": "markdown",
   "id": "c7b8c972",
   "metadata": {},
   "source": [
    "# CPSC 2018"
   ]
  },
  {
   "cell_type": "code",
   "execution_count": null,
   "id": "8bb89dab",
   "metadata": {},
   "outputs": [],
   "source": [
    "cpsc2018_data_path_root = DATASET_DIR / \"cpsc2018\"\n",
    "cpsc2018_target_folder_root = TARGET_DIR / \"cpsc2018\""
   ]
  },
  {
   "cell_type": "code",
   "execution_count": null,
   "id": "7f822068",
   "metadata": {},
   "outputs": [],
   "source": [
    "df_cpsc2018, _, _, _ = prepare_data_cpsc2018(\n",
    "    data_path=cpsc2018_data_path_root,\n",
    "    target_folder=cpsc2018_target_folder_root\n",
    ")"
   ]
  },
  {
   "cell_type": "code",
   "execution_count": null,
   "id": "72cd7ba5",
   "metadata": {},
   "outputs": [],
   "source": [
    "reformat_as_memmap(\n",
    "    df=df_cpsc2018,\n",
    "    target_filename=Path(cpsc2018_target_folder_root)/\"memmap.npy\",\n",
    "    fs=500,\n",
    "    channel_itos=CHANNEL_ITOS,\n",
    "    data_folder=cpsc2018_target_folder_root\n",
    ")"
   ]
  },
  {
   "cell_type": "markdown",
   "id": "ad330ffc",
   "metadata": {},
   "source": [
    "# CPSC-Extra"
   ]
  },
  {
   "cell_type": "code",
   "execution_count": null,
   "id": "6a88e2dc",
   "metadata": {},
   "outputs": [],
   "source": [
    "cpsc_extra_data_path_root = DATASET_DIR / \"cpsc_extra\"\n",
    "cpsc_extra_target_folder_root = TARGET_DIR / \"cpsc_extra\""
   ]
  },
  {
   "cell_type": "code",
   "execution_count": null,
   "id": "2519965c",
   "metadata": {},
   "outputs": [],
   "source": [
    "df_cpsc_extra, _, _, _ = prepare_data_cpsc_extra(\n",
    "    data_path=cpsc_extra_data_path_root,\n",
    "    target_folder=cpsc_extra_target_folder_root\n",
    ")"
   ]
  },
  {
   "cell_type": "code",
   "execution_count": null,
   "id": "c2eb755c",
   "metadata": {},
   "outputs": [],
   "source": [
    "reformat_as_memmap(\n",
    "    df=df_cpsc_extra,\n",
    "    target_filename=Path(cpsc_extra_target_folder_root)/\"memmap.npy\",\n",
    "    fs=500,\n",
    "    channel_itos=CHANNEL_ITOS,\n",
    "    data_folder=cpsc_extra_target_folder_root\n",
    ")"
   ]
  },
  {
   "cell_type": "markdown",
   "id": "e6a2faab",
   "metadata": {},
   "source": [
    "# Georgia"
   ]
  },
  {
   "cell_type": "code",
   "execution_count": null,
   "id": "d230bc90",
   "metadata": {},
   "outputs": [],
   "source": [
    "georgia_data_path_root = DATASET_DIR / \"georgia\"\n",
    "georgia_target_folder_root = TARGET_DIR / \"georgia\""
   ]
  },
  {
   "cell_type": "code",
   "execution_count": null,
   "id": "6278a43a",
   "metadata": {},
   "outputs": [],
   "source": [
    "df_georgia, _, _, _ = prepare_data_georgia(\n",
    "    data_path=georgia_data_path_root,\n",
    "    target_folder=georgia_target_folder_root\n",
    ")"
   ]
  },
  {
   "cell_type": "code",
   "execution_count": null,
   "id": "11fd6604",
   "metadata": {},
   "outputs": [],
   "source": [
    "reformat_as_memmap(\n",
    "    df=df_georgia,\n",
    "    target_filename=Path(georgia_target_folder_root)/\"memmap.npy\",\n",
    "    fs=500,\n",
    "    channel_itos=CHANNEL_ITOS,\n",
    "    data_folder=georgia_target_folder_root\n",
    ")"
   ]
  },
  {
   "cell_type": "markdown",
   "id": "aeedb3fe",
   "metadata": {},
   "source": [
    "# SPH"
   ]
  },
  {
   "cell_type": "code",
   "execution_count": null,
   "id": "770c1cb7",
   "metadata": {},
   "outputs": [],
   "source": [
    "sph_data_path_root = DATASET_DIR / \"sph\"\n",
    "sph_target_folder_root = TARGET_DIR / \"sph\""
   ]
  },
  {
   "cell_type": "code",
   "execution_count": null,
   "id": "630994ad",
   "metadata": {},
   "outputs": [],
   "source": [
    "df_sph, _, _, _ = prepare_data_sph(\n",
    "    data_path=sph_data_path_root,\n",
    "    target_folder=sph_target_folder_root\n",
    ")"
   ]
  },
  {
   "cell_type": "code",
   "execution_count": null,
   "id": "802de012",
   "metadata": {},
   "outputs": [],
   "source": [
    "reformat_as_memmap(\n",
    "    df=df_sph,\n",
    "    target_filename=Path(sph_target_folder_root)/\"memmap.npy\",\n",
    "    fs=500,\n",
    "    channel_itos=CHANNEL_ITOS,\n",
    "    data_folder=sph_target_folder_root\n",
    ")"
   ]
  },
  {
   "cell_type": "markdown",
   "id": "fb824423",
   "metadata": {},
   "source": [
    "# CODE-15%"
   ]
  },
  {
   "cell_type": "code",
   "execution_count": null,
   "id": "2166080f",
   "metadata": {},
   "outputs": [],
   "source": [
    "code15_data_path_root = DATASET_DIR / \"code15\"\n",
    "code15_target_folder_root = TARGET_DIR / \"code15\""
   ]
  },
  {
   "cell_type": "code",
   "execution_count": null,
   "id": "0c7a78c2",
   "metadata": {},
   "outputs": [],
   "source": [
    "df_code15, _, _, _ = prepare_data_ribeiro_full(\n",
    "    data_path=code15_data_path_root,\n",
    "    target_folder=code15_target_folder_root\n",
    ")"
   ]
  },
  {
   "cell_type": "code",
   "execution_count": null,
   "id": "c26a7d61",
   "metadata": {},
   "outputs": [],
   "source": [
    "reformat_as_memmap(\n",
    "    df=df_code15,\n",
    "    target_filename=Path(code15_target_folder_root)/\"memmap.npy\",\n",
    "    fs=400,\n",
    "    channel_itos=CHANNEL_ITOS,\n",
    "    data_folder=code15_target_folder_root\n",
    ")"
   ]
  },
  {
   "cell_type": "markdown",
   "id": "9a073149",
   "metadata": {},
   "source": [
    "# Chapman"
   ]
  },
  {
   "cell_type": "code",
   "execution_count": null,
   "id": "39c3f0bf",
   "metadata": {},
   "outputs": [],
   "source": [
    "chapman_data_path_root = DATASET_DIR / \"chapman\"\n",
    "chapman_target_folder_root = TARGET_DIR / \"chapman\" "
   ]
  },
  {
   "cell_type": "code",
   "execution_count": null,
   "id": "2e249041",
   "metadata": {},
   "outputs": [],
   "source": [
    "df_chapman, _, _, _ = prepare_data_chapman(\n",
    "    data_path=chapman_data_path_root,\n",
    "    denoised=False,\n",
    "    target_folder=chapman_target_folder_root\n",
    ")"
   ]
  },
  {
   "cell_type": "code",
   "execution_count": null,
   "id": "26d95712",
   "metadata": {},
   "outputs": [],
   "source": [
    "reformat_as_memmap(\n",
    "    df=df_chpaman,\n",
    "    target_filename=Path(chapman_target_folder_root)/\"memmap.npy\",\n",
    "    fs=500,\n",
    "    channel_itos=CHANNEL_ITOS,\n",
    "    data_folder=chapman_target_folder_root\n",
    ")"
   ]
  },
  {
   "cell_type": "markdown",
   "id": "93d0665a",
   "metadata": {},
   "source": [
    "# MIMIC"
   ]
  },
  {
   "cell_type": "code",
   "execution_count": null,
   "id": "1a495708",
   "metadata": {},
   "outputs": [],
   "source": [
    "mimic_data_path_root = DATASET_DIR / \"mimic\"\n",
    "mimic_target_folder_root = TARGET_DIR / \"mimic\" "
   ]
  },
  {
   "cell_type": "code",
   "execution_count": null,
   "id": "7cff59ac",
   "metadata": {},
   "outputs": [],
   "source": [
    "df_mimic, _, _, _ = prepare_mimicecg(\n",
    "    data_path=mimic_data_path_root,\n",
    "    target_folder=mimic_target_folder_root\n",
    ")"
   ]
  },
  {
   "cell_type": "code",
   "execution_count": null,
   "id": "a8ed0289",
   "metadata": {},
   "outputs": [],
   "source": [
    "reformat_as_memmap(\n",
    "    df=df_mimic,\n",
    "    target_filename=Path(mimic_target_folder_root)/\"memmap.npy\",\n",
    "    fs=500,\n",
    "    channel_itos=CHANNEL_ITOS,\n",
    "    data_folder=mimic_target_folder_root\n",
    ")"
   ]
  },
  {
   "cell_type": "markdown",
   "id": "4d108aab",
   "metadata": {},
   "source": [
    "# EchoNext"
   ]
  },
  {
   "cell_type": "code",
   "execution_count": null,
   "id": "7231ff34",
   "metadata": {},
   "outputs": [],
   "source": [
    "echonext_data_path_root = DATASET_DIR / \"echonext\"\n",
    "echonext_target_folder_root = TARGET_DIR / \"echonext\" "
   ]
  },
  {
   "cell_type": "code",
   "execution_count": null,
   "id": "669b54db",
   "metadata": {},
   "outputs": [],
   "source": [
    "df_echonext, _, _, _ = prepare_data_echonext(\n",
    "    data_path=echonext_data_path_root,\n",
    "    target_folder=echonext_target_folder_root\n",
    ")"
   ]
  },
  {
   "cell_type": "code",
   "execution_count": null,
   "id": "63e43b0d",
   "metadata": {},
   "outputs": [],
   "source": [
    "reformat_as_memmap(\n",
    "    df=df_echonext,\n",
    "    target_filename=Path(echonext_target_folder_root)/\"memmap.npy\",\n",
    "    fs=250,\n",
    "    channel_itos=CHANNEL_ITOS,\n",
    "    data_folder=echonext_target_folder_root\n",
    ")"
   ]
  },
  {
   "cell_type": "markdown",
   "id": "66a10382",
   "metadata": {},
   "source": [
    "# ZZU pECG"
   ]
  },
  {
   "cell_type": "code",
   "execution_count": null,
   "id": "253a7299",
   "metadata": {},
   "outputs": [],
   "source": [
    "zzu_pecg_data_path_root = DATASET_DIR / \"zzu_pecg\"\n",
    "zzu_pecg_target_folder_root = TARGET_DIR / \"zzu_pecg\" "
   ]
  },
  {
   "cell_type": "code",
   "execution_count": null,
   "id": "c8c0d800",
   "metadata": {},
   "outputs": [],
   "source": [
    "df_zzu_pecg, _, _, _ = prepare_data_zzu_pecg(\n",
    "    data_path=zzu_pecg_data_path_root,\n",
    "    target_folder=zzu_pecg_target_folder_root\n",
    ")"
   ]
  },
  {
   "cell_type": "code",
   "execution_count": null,
   "id": "9bc94fbe",
   "metadata": {},
   "outputs": [],
   "source": [
    "reformat_as_memmap(\n",
    "    df=df_zzu_pecg,\n",
    "    target_filename=Path(zzu_pecg_target_folder_root)/\"memmap.npy\",\n",
    "    fs=500,\n",
    "    channel_itos=CHANNEL_ITOS,\n",
    "    data_folder=zzu_pecg_target_folder_root\n",
    ")"
   ]
  }
 ],
 "metadata": {
  "kernelspec": {
   "display_name": "Python 3",
   "language": "python",
   "name": "python3"
  },
  "language_info": {
   "codemirror_mode": {
    "name": "ipython",
    "version": 3
   },
   "file_extension": ".py",
   "mimetype": "text/x-python",
   "name": "python",
   "nbconvert_exporter": "python",
   "pygments_lexer": "ipython3",
   "version": "3.12.1"
  }
 },
 "nbformat": 4,
 "nbformat_minor": 5
}
